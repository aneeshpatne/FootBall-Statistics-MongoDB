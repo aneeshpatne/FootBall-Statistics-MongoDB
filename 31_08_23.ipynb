{
  "nbformat": 4,
  "nbformat_minor": 0,
  "metadata": {
    "colab": {
      "provenance": [],
      "authorship_tag": "ABX9TyOJahyCkaig3bsWWuiuO/cV",
      "include_colab_link": true
    },
    "kernelspec": {
      "name": "python3",
      "display_name": "Python 3"
    },
    "language_info": {
      "name": "python"
    }
  },
  "cells": [
    {
      "cell_type": "markdown",
      "metadata": {
        "id": "view-in-github",
        "colab_type": "text"
      },
      "source": [
        "<a href=\"https://colab.research.google.com/github/aneeshpatne/FootBall-Statistics-MongoDB/blob/main/31_08_23.ipynb\" target=\"_parent\"><img src=\"https://colab.research.google.com/assets/colab-badge.svg\" alt=\"Open In Colab\"/></a>"
      ]
    },
    {
      "cell_type": "code",
      "execution_count": null,
      "metadata": {
        "id": "T8yFH6hNv4Np",
        "colab": {
          "base_uri": "https://localhost:8080/"
        },
        "outputId": "96d91fe7-a078-4ca1-901a-2439e48902f6"
      },
      "outputs": [
        {
          "output_type": "stream",
          "name": "stdout",
          "text": [
            "Enter your data:01111111101\n",
            "INPUT DATA: 01111111101\n",
            "STUFFED DATA: 0111111001111101110101111110\n",
            "DESTUFFED DATA: 01111011101\n",
            "[1, 2, 3, 2, 3]\n"
          ]
        }
      ],
      "source": [
        "flag = '01111110'\n",
        "x = input('Enter your data:')\n",
        "count = 0\n",
        "stuffed_data = ''\n",
        "# Stuffing\n",
        "for bit in x:\n",
        "    if bit == '0':\n",
        "        count = 0\n",
        "        stuffed_data += bit\n",
        "    elif bit == '1':\n",
        "        count += 1\n",
        "        stuffed_data += bit\n",
        "    if count == 5:\n",
        "        count = 0\n",
        "        stuffed_data += '0'\n",
        "stuffed_data = flag + stuffed_data + flag\n",
        "# Destuffing\n",
        "destuffed_data = ''\n",
        "i = 0\n",
        "count = 0\n",
        "while i < len(stuffed_data):\n",
        "    if stuffed_data[i:i+8] == flag:\n",
        "        i += len(flag)\n",
        "        continue\n",
        "    if stuffed_data[i] == '1':\n",
        "        count += 1\n",
        "    elif stuffed_data[i] == '0':\n",
        "        count = 0\n",
        "    if count == 5:\n",
        "        i += 1\n",
        "    destuffed_data += stuffed_data[i]\n",
        "    i +=1\n",
        "\n",
        "print('INPUT DATA:', x)\n",
        "print('STUFFED DATA:', stuffed_data)\n",
        "print('DESTUFFED DATA:', destuffed_data)\n",
        "\n"
      ]
    }
  ]
}